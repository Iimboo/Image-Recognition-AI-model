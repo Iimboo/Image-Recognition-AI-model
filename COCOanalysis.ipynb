{
 "cells": [
  {
   "cell_type": "code",
   "execution_count": 1,
   "metadata": {},
   "outputs": [],
   "source": [
    "from pycocotools.coco import COCO\n",
    "import tensorflow as tf\n",
    "import os\n"
   ]
  },
  {
   "cell_type": "code",
   "execution_count": 2,
   "metadata": {},
   "outputs": [],
   "source": [
    "#resize images\n",
    "\n",
    "img_folder = 'C:/COCO/coco2017/train2017/'\n",
    "target_size = (224,224) #common size\n",
    "\n",
    "def resize_image(image_path, target_size=(224, 224)):\n",
    "    image = tf.io.read_file(image_path)  #load the image as binary data\n",
    "    image = tf.image.decode_jpeg(image, channels=3)  #decode the image as RGB\n",
    "    image = tf.image.resize(image, target_size)\n",
    "    return image\n",
    "\n",
    "for img_file in os.listdir(img_folder):\n",
    "    if img_file.endswith('.jpg'):\n",
    "        try:\n",
    "            img_path = os.path.join(img_folder,img_file)\n",
    "            resized = resize_image(img_path)\n",
    "            #need to cast images back into uint8 format because tensorflow auto converts images to float32 for smooth transformations\n",
    "            #changes tensorflow tensor array to numpy array for easy python processing\n",
    "            recasted = tf.cast(resized, tf.uint8).numpy()\n",
    "            #saves numpy array into image format\n",
    "            tf.keras.preprocessing.image.save_img(img_path, recasted)\n",
    "            \n",
    "        except Exception as e:\n",
    "            print(f\"Error processing {img_file} :{e}\")"
   ]
  },
  {
   "cell_type": "code",
   "execution_count": 3,
   "metadata": {},
   "outputs": [
    {
     "name": "stdout",
     "output_type": "stream",
     "text": [
      "loading annotations into memory...\n",
      "Done (t=13.76s)\n",
      "creating index...\n",
      "index created!\n"
     ]
    }
   ],
   "source": [
    "#readjust annotations after resizing\n",
    "\n",
    "ann_file = 'C:/COCO/coco2017/annotations/instances_train2017.json'\n",
    "coco = COCO(ann_file)\n",
    "\n",
    "#Below is just to demonstrate if you want to load categories\n",
    "#categories = coco.loadCats(coco.getCatIds())\n",
    "#print(\"Categories:\",categories)\n",
    "\n",
    "img_ids = coco.getImgIds()\n",
    "for image_id in img_ids:\n",
    "    ann_ids = coco.getAnnIds(imgIds = image_id)\n",
    "    annotations = coco.loadAnns(ann_ids)\n",
    "    \n",
    "    img_info = coco.loadImgs(image_id)[0]\n",
    "    original_width = img_info['width']\n",
    "    original_height = img_info['height']\n",
    "    \n",
    "    x_scale = 224 / original_width\n",
    "    y_scale = 224 / original_height\n",
    "    \n",
    "    for ann in annotations:\n",
    "        bbox = ann['bbox']\n",
    "        new_x = bbox[0] * x_scale\n",
    "        new_y = bbox[1] * y_scale\n",
    "        new_width = bbox[2] * x_scale\n",
    "        new_height = bbox[3] * y_scale\n",
    "        ann['bbox'] = [new_x,new_y,new_width,new_height]"
   ]
  },
  {
   "cell_type": "code",
   "execution_count": null,
   "metadata": {},
   "outputs": [],
   "source": []
  }
 ],
 "metadata": {
  "kernelspec": {
   "display_name": "Python 3",
   "language": "python",
   "name": "python3"
  },
  "language_info": {
   "codemirror_mode": {
    "name": "ipython",
    "version": 3
   },
   "file_extension": ".py",
   "mimetype": "text/x-python",
   "name": "python",
   "nbconvert_exporter": "python",
   "pygments_lexer": "ipython3",
   "version": "3.12.7"
  }
 },
 "nbformat": 4,
 "nbformat_minor": 2
}
